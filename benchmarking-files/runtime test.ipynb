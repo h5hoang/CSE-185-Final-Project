{
 "cells": [
  {
   "cell_type": "code",
   "execution_count": 62,
   "id": "89661a15",
   "metadata": {
    "scrolled": true
   },
   "outputs": [
    {
     "name": "stdout",
     "output_type": "stream",
     "text": [
      "Sickle Trimming process is complete.\n",
      "CPU times: user 6.33 s, sys: 251 ms, total: 6.58 s\n",
      "Wall time: 6.61 s\n"
     ]
    }
   ],
   "source": [
    "# testing runtime of our sickle implementation\n",
    "import sys\n",
    "sys.path.append('~/CSE-185-final-project')\n",
    "\n",
    "from Bio import SeqIO\n",
    "from mysickle.myutils import trimmer\n",
    "import os\n",
    "\n",
    "forward_file = os.path.expanduser(\"~/public/lab1/NA12878_child_1.fq\")\n",
    "reverse_file = os.path.expanduser(\"~/public/lab1/NA12878_child_2.fq\")\n",
    "output_forward_file = \"child1.fq\"\n",
    "output_reverse_file = \"child2.fq\"\n",
    "output_single_file = \"childsingle.fq\"\n",
    "qual_type = \"sanger\"\n",
    "\n",
    "%time x = trimmer(forward_file, reverse_file, output_forward_file, output_reverse_file, output_single_file, qual_type)\n"
   ]
  },
  {
   "cell_type": "code",
   "execution_count": 40,
   "id": "6d655866",
   "metadata": {},
   "outputs": [
    {
     "name": "stdout",
     "output_type": "stream",
     "text": [
      "CPU times: user 8 µs, sys: 2 µs, total: 10 µs\n",
      "Wall time: 17.2 µs\n"
     ]
    }
   ],
   "source": [
    "# testing runtime of official sickle implementation\n",
    "import os \n",
    "\n",
    "cmd = \"sickle pe -f ~/public/lab1/NA12878_child_1.fq -r ~/public/lab1/NA12878_child_2.fq -t sanger -o child1.fq -p child2.fq -s childsingle.fq\"\n",
    "%time x = cmd"
   ]
  }
 ],
 "metadata": {
  "kernelspec": {
   "display_name": "Python 3 (ipykernel)",
   "language": "python",
   "name": "python3"
  },
  "language_info": {
   "codemirror_mode": {
    "name": "ipython",
    "version": 3
   },
   "file_extension": ".py",
   "mimetype": "text/x-python",
   "name": "python",
   "nbconvert_exporter": "python",
   "pygments_lexer": "ipython3",
   "version": "3.9.5"
  }
 },
 "nbformat": 4,
 "nbformat_minor": 5
}
