{
 "cells": [
  {
   "cell_type": "code",
   "execution_count": 21,
   "id": "89661a15",
   "metadata": {
    "scrolled": true
   },
   "outputs": [
    {
     "name": "stdout",
     "output_type": "stream",
     "text": [
      "Sickle Trimming process is complete.\n",
      "CPU times: user 5.57 s, sys: 167 ms, total: 5.74 s\n",
      "Wall time: 5.74 s\n"
     ]
    }
   ],
   "source": [
    "# testing runtime of our sickle implementation\n",
    "import sys\n",
    "sys.path.append('~/CSE-185-final-project')\n",
    "\n",
    "from Bio import SeqIO\n",
    "from mysickle.myutils import trimmer\n",
    "import os\n",
    "\n",
    "forward_file = os.path.expanduser(\"~/public/lab1/NA12878_child_1.fq\")\n",
    "reverse_file = os.path.expanduser(\"~/public/lab1/NA12878_child_2.fq\")\n",
    "output_forward_file = \"child1.fq\"\n",
    "output_reverse_file = \"child2.fq\"\n",
    "output_single_file = \"childsingle.fq\"\n",
    "qual_type = \"sanger\"\n",
    "\n",
    "%time x = trimmer(forward_file, reverse_file, output_forward_file, output_reverse_file, output_single_file, qual_type)\n"
   ]
  },
  {
   "cell_type": "code",
   "execution_count": 22,
   "id": "6d655866",
   "metadata": {
    "scrolled": true
   },
   "outputs": [
    {
     "name": "stdout",
     "output_type": "stream",
     "text": [
      "CPU times: user 16 µs, sys: 1e+03 ns, total: 17 µs\n",
      "Wall time: 33.6 µs\n"
     ]
    }
   ],
   "source": [
    "# testing runtime of official sickle implementation\n",
    "import os \n",
    "\n",
    "cmd = \"sickle pe -f ~/public/lab1/NA12878_child_1.fq -r ~/public/lab1/NA12878_child_2.fq -t sanger -o child1.fq -p child2.fq -s childsingle.fq\"\n",
    "%time x = cmd"
   ]
  },
  {
   "cell_type": "code",
   "execution_count": 20,
   "id": "a19ee877",
   "metadata": {},
   "outputs": [
    {
     "name": "stdout",
     "output_type": "stream",
     "text": [
      "Sickle Trimming process is complete.\n",
      "CPU times: user 9.07 s, sys: 362 ms, total: 9.43 s\n",
      "Wall time: 9.44 s\n"
     ]
    }
   ],
   "source": [
    "# testing runtime of our sickle implementation on REAL DATA\n",
    "import sys\n",
    "sys.path.append('~/CSE-185-final-project')\n",
    "\n",
    "from Bio import SeqIO\n",
    "from mysickle.myutils import trimmer\n",
    "import os\n",
    "\n",
    "forward_file = os.path.expanduser(\"~/ERR217507_reduced_1.fq\")\n",
    "reverse_file = os.path.expanduser(\"~/ERR217507_reduced_2.fq\")\n",
    "output_forward_file = \"ERR217507_reduced_1_trimmed.fq\"\n",
    "output_reverse_file = \"ERR217507_reduced_2_trimmed.fq\"\n",
    "output_single_file = \"ERR217507_singles.fq\"\n",
    "qual_type = \"sanger\"\n",
    "\n",
    "%time x = trimmer(forward_file, reverse_file, output_forward_file, output_reverse_file, output_single_file, qual_type)\n"
   ]
  },
  {
   "cell_type": "code",
   "execution_count": 24,
   "id": "1f5299fd",
   "metadata": {},
   "outputs": [
    {
     "name": "stdout",
     "output_type": "stream",
     "text": [
      "CPU times: user 17 µs, sys: 1 µs, total: 18 µs\n",
      "Wall time: 33.6 µs\n"
     ]
    }
   ],
   "source": [
    "# testing runtime of official sickle implementation on REAL DATA\n",
    "import os \n",
    "\n",
    "cmd = \"sickle pe -f ~/ERR217507_reduced_1.fq -r ~/ERR217507_reduced_2.fq -t sanger -o ERR217507_reduced_1_trimmed.fq -p ERR217507_reduced_2_trimmed.fq -s ERR217507_singles.fq\"\n",
    "%time x = cmd"
   ]
  }
 ],
 "metadata": {
  "kernelspec": {
   "display_name": "Python 3 (ipykernel)",
   "language": "python",
   "name": "python3"
  },
  "language_info": {
   "codemirror_mode": {
    "name": "ipython",
    "version": 3
   },
   "file_extension": ".py",
   "mimetype": "text/x-python",
   "name": "python",
   "nbconvert_exporter": "python",
   "pygments_lexer": "ipython3",
   "version": "3.9.5"
  }
 },
 "nbformat": 4,
 "nbformat_minor": 5
}
